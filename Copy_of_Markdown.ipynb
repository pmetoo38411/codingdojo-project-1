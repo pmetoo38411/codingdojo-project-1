{
  "nbformat": 4,
  "nbformat_minor": 0,
  "metadata": {
    "colab": {
      "provenance": [],
      "authorship_tag": "ABX9TyP41FEQ0kbP0BzuSWdDUueh",
      "include_colab_link": true
    },
    "kernelspec": {
      "name": "python3",
      "display_name": "Python 3"
    },
    "language_info": {
      "name": "python"
    }
  },
  "cells": [
    {
      "cell_type": "markdown",
      "metadata": {
        "id": "view-in-github",
        "colab_type": "text"
      },
      "source": [
        "<a href=\"https://colab.research.google.com/github/pmetoo38411/codingdojo-project-1/blob/main/Copy_of_Markdown.ipynb\" target=\"_parent\"><img src=\"https://colab.research.google.com/assets/colab-badge.svg\" alt=\"Open In Colab\"/></a>"
      ]
    },
    {
      "cell_type": "code",
      "source": [],
      "metadata": {
        "id": "shC_HoOT8ava"
      },
      "execution_count": null,
      "outputs": []
    },
    {
      "cell_type": "markdown",
      "source": [
        "#**Project Title: Project 1-part 1**\n",
        "\n",
        "*Paulette Trevino*\n",
        "\n",
        "##**Loading Data**\n",
        "\n",
        "##**Data Cleaning**\n",
        "\n",
        "##**Exploratory Visuals**\n",
        "\n",
        "##**Explanatory Visuals**"
      ],
      "metadata": {
        "id": "8UBqsJA_884C"
      }
    }
  ]
}