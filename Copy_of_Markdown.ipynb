{
  "nbformat": 4,
  "nbformat_minor": 0,
  "metadata": {
    "colab": {
      "provenance": [],
      "authorship_tag": "ABX9TyN2G08CW4xXC5CHhNITGIVP",
      "include_colab_link": true
    },
    "kernelspec": {
      "name": "python3",
      "display_name": "Python 3"
    },
    "language_info": {
      "name": "python"
    }
  },
  "cells": [
    {
      "cell_type": "markdown",
      "metadata": {
        "id": "view-in-github",
        "colab_type": "text"
      },
      "source": [
        "<a href=\"https://colab.research.google.com/github/pmetoo38411/codingdojo-project-1/blob/main/Copy_of_Markdown.ipynb\" target=\"_parent\"><img src=\"https://colab.research.google.com/assets/colab-badge.svg\" alt=\"Open In Colab\"/></a>"
      ]
    },
    {
      "cell_type": "markdown",
      "source": [
        "#**Project Title: Project 1-part 1**\n",
        "\n",
        "*Paulette Trevino*\n"
      ],
      "metadata": {
        "id": "8UBqsJA_884C"
      }
    },
    {
      "cell_type": "code",
      "source": [],
      "metadata": {
        "id": "lAHr6yw0Be-f"
      },
      "execution_count": null,
      "outputs": []
    },
    {
      "cell_type": "markdown",
      "source": [
        "##**Loading Data**\n"
      ],
      "metadata": {
        "id": "n8_qpmEDBvVD"
      }
    },
    {
      "cell_type": "code",
      "source": [],
      "metadata": {
        "id": "QZ_lylkpBzR8"
      },
      "execution_count": null,
      "outputs": []
    },
    {
      "cell_type": "markdown",
      "source": [
        "\n",
        "##**Data Cleaning**\n"
      ],
      "metadata": {
        "id": "U5xq0syoB1Xj"
      }
    },
    {
      "cell_type": "code",
      "source": [],
      "metadata": {
        "id": "fEDmaP9dB6wL"
      },
      "execution_count": null,
      "outputs": []
    },
    {
      "cell_type": "markdown",
      "source": [
        "##**Exploratory Visuals**\n"
      ],
      "metadata": {
        "id": "c_AFk2UdB7mJ"
      }
    },
    {
      "cell_type": "code",
      "source": [],
      "metadata": {
        "id": "Tj_2Vk-cB_KG"
      },
      "execution_count": null,
      "outputs": []
    },
    {
      "cell_type": "markdown",
      "source": [
        "##**Exploratory Visuals**"
      ],
      "metadata": {
        "id": "E2mzF1lGB_oE"
      }
    },
    {
      "cell_type": "code",
      "source": [],
      "metadata": {
        "id": "YabfA6EACndn"
      },
      "execution_count": null,
      "outputs": []
    }
  ]
}